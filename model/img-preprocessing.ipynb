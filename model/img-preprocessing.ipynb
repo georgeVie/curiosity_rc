{
 "cells": [
  {
   "cell_type": "markdown",
   "id": "studied-intersection",
   "metadata": {},
   "source": [
    "All the Imports"
   ]
  },
  {
   "cell_type": "code",
   "execution_count": 1,
   "id": "blond-terry",
   "metadata": {},
   "outputs": [],
   "source": [
    "import os\n",
    "import random\n",
    "from PIL import Image\n",
    "dirName = r'C:\\Users\\georg\\Desktop\\projects\\Bob\\training\\rawTrack3'"
   ]
  },
  {
   "cell_type": "markdown",
   "id": "nuclear-perfume",
   "metadata": {},
   "source": [
    "## Code for Type 1 model preprocessing"
   ]
  },
  {
   "cell_type": "code",
   "execution_count": 4,
   "id": "diverse-monthly",
   "metadata": {},
   "outputs": [],
   "source": [
    "# Iterate over all the entries\n",
    "i = 0\n",
    "def getListOfFiles(dirName):\n",
    "    global i\n",
    "    # create a list of file and sub directories \n",
    "    # names in the given directory \n",
    "    listOfFile = os.listdir(dirName)\n",
    "    allFiles = list()\n",
    "\n",
    "    for entry in listOfFile:\n",
    "        # Create full path\n",
    "        fullPath = os.path.join(dirName, entry)\n",
    "        # If entry is a directory then get the list of files in this directory \n",
    "        if os.path.isdir(fullPath):\n",
    "            allFiles = allFiles + getListOfFiles(fullPath)\n",
    "        else:\n",
    "            im1 = Image.open(fullPath)\n",
    "            #1:diraction, 2:speed, 3:side, 4:angle\n",
    "            l,diraction,speed,side,angle,extension = entry.split(\"_\")\n",
    "            speed ,angle = int(speed), int(angle)\n",
    "            if speed+angle > 0:\n",
    "                if side == 'M':\n",
    "                    if random.random()>0.5:\n",
    "                        im1.save(r'C:\\Users\\georg\\Desktop\\projects\\Bob\\training\\ready\\{}\\{}-{}'\n",
    "                                 .format(side,i,entry))\n",
    "                else:\n",
    "                    im1.save(r'C:\\Users\\georg\\Desktop\\projects\\Bob\\training\\ready\\{}\\{}-{}'\n",
    "                             .format(side,i,entry))\n",
    "                i+=1\n",
    "\n",
    "                allFiles.append(entry)\n",
    "                \n",
    "    return allFiles\n",
    "\n",
    "#dirs = ['F100','F65','L100','L65','R100','R65']\n",
    "dirs = ['L','M','R']\n",
    "try:\n",
    "    for d in dirs:\n",
    "        #for i in [60,80,100]: \n",
    "            #os.mkdir('training/ready/{}-{}'.format(d,i))\n",
    "        os.mkdir('training/ready/{}'.format(d))\n",
    "finally:\n",
    "    listOfFiles = getListOfFiles(dirName)"
   ]
  },
  {
   "cell_type": "markdown",
   "id": "confident-spare",
   "metadata": {},
   "source": [
    "## Code for Type 2 model preprocessing"
   ]
  },
  {
   "cell_type": "code",
   "execution_count": 2,
   "id": "light-comfort",
   "metadata": {},
   "outputs": [],
   "source": [
    "# Iterate over all the entries\n",
    "i = 0\n",
    "def getListOfFiles(dirName):\n",
    "    global i\n",
    "    # create a list of file and sub directories \n",
    "    # names in the given directory \n",
    "    listOfFile = os.listdir(dirName)\n",
    "    allFiles = list()\n",
    "\n",
    "    for entry in listOfFile:\n",
    "        # Create full path\n",
    "        fullPath = os.path.join(dirName, entry)\n",
    "        # If entry is a directory then get the list of files in this directory \n",
    "        if os.path.isdir(fullPath):\n",
    "            allFiles = allFiles + getListOfFiles(fullPath)\n",
    "        else:\n",
    "            im1 = Image.open(fullPath)\n",
    "            #1:diraction, 2:speed, 3:side, 4:angle\n",
    "            l,diraction,speed,side,angle,extension = entry.split(\"_\")\n",
    "            speed ,angle = int(speed), int(angle)\n",
    "            if speed+angle > 0:\n",
    "                im1.save(r'C:\\Users\\georg\\Desktop\\projects\\Bob\\training\\ready\\{}\\{}-{}'\n",
    "                                 .format(side,i,entry))\n",
    "            i+=1\n",
    "            allFiles.append(entry)\n",
    "                \n",
    "    return allFiles\n",
    "\n",
    "dirs = ['L','M','R']\n",
    "try:\n",
    "    for d in dirs:\n",
    "        os.mkdir('training/ready/{}'.format(d))\n",
    "finally:\n",
    "    listOfFiles = getListOfFiles(dirName)"
   ]
  },
  {
   "cell_type": "code",
   "execution_count": null,
   "id": "democratic-boring",
   "metadata": {},
   "outputs": [],
   "source": []
  }
 ],
 "metadata": {
  "kernelspec": {
   "display_name": "Python 3.8 (tensorflow)",
   "language": "python",
   "name": "tensorflow"
  },
  "language_info": {
   "codemirror_mode": {
    "name": "ipython",
    "version": 3
   },
   "file_extension": ".py",
   "mimetype": "text/x-python",
   "name": "python",
   "nbconvert_exporter": "python",
   "pygments_lexer": "ipython3",
   "version": "3.8.8"
  }
 },
 "nbformat": 4,
 "nbformat_minor": 5
}
